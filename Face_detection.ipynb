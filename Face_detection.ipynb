{
 "cells": [
  {
   "cell_type": "code",
   "execution_count": 1,
   "metadata": {},
   "outputs": [],
   "source": [
    "# Face Recognition\n",
    "\n",
    "import cv2\n",
    "\n",
    "face_cascade = cv2.CascadeClassifier('haarcascade_frontalface_default.xml') # We load the cascade for the face.\n",
    "eye_cascade = cv2.CascadeClassifier('haarcascade_eye.xml') # We load the cascade for the eyes.\n",
    "\n",
    "def detect(gray, frame): # We create a function that takes as input the image in black and white (gray) and the original image (frame), and that will return the same image with the detector rectangles. \n",
    "    faces = face_cascade.detectMultiScale(gray, 1.3, 5) # We apply the detectMultiScale method from the face cascade to locate one or several faces in the image.\n",
    "    for (x, y, w, h) in faces: # For each detected face:\n",
    "        cv2.rectangle(frame, (x, y), (x+w, y+h), (255, 0, 0), 2) # We paint a rectangle around the face.\n",
    "        roi_gray = gray[y:y+h, x:x+w] # We get the region of interest in the black and white image.\n",
    "        roi_color = frame[y:y+h, x:x+w] # We get the region of interest in the colored image.\n",
    "        eyes = eye_cascade.detectMultiScale(roi_gray, 1.1, 3) # We apply the detectMultiScale method to locate one or several eyes in the image.\n",
    "        for (ex, ey, ew, eh) in eyes: # For each detected eye:\n",
    "            cv2.rectangle(roi_color,(ex, ey),(ex+ew, ey+eh), (0, 255, 0), 2) # We paint a rectangle around the eyes, but inside the referential of the face.\n",
    "    return frame # We return the image with the detector rectangles.\n",
    "\n",
    "video_capture = cv2.VideoCapture(0) # We turn the webcam on.\n",
    "\n",
    "while True: # We repeat infinitely (until break):\n",
    "    _, frame = video_capture.read() # We get the last frame.\n",
    "    gray = cv2.cvtColor(frame, cv2.COLOR_BGR2GRAY) # We do some colour transformations.\n",
    "    canvas = detect(gray, frame) # We get the output of our detect function.\n",
    "    cv2.imshow('Video', canvas) # We display the outputs.\n",
    "    if cv2.waitKey(1) & 0xFF == ord('q'): # If we type on the keyboard:\n",
    "        break # We stop the loop.\n",
    "\n",
    "video_capture.release() # We turn the webcam off.\n",
    "cv2.destroyAllWindows() # We destroy all the windows inside which the images were displayed."
   ]
  },
  {
   "cell_type": "code",
   "execution_count": null,
   "metadata": {},
   "outputs": [],
   "source": []
  }
 ],
 "metadata": {
  "kernelspec": {
   "display_name": "Python 3",
   "language": "python",
   "name": "python3"
  },
  "language_info": {
   "codemirror_mode": {
    "name": "ipython",
    "version": 3
   },
   "file_extension": ".py",
   "mimetype": "text/x-python",
   "name": "python",
   "nbconvert_exporter": "python",
   "pygments_lexer": "ipython3",
   "version": "3.7.1"
  }
 },
 "nbformat": 4,
 "nbformat_minor": 2
}
